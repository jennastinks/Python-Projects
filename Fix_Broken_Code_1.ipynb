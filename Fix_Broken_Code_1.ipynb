{
  "nbformat": 4,
  "nbformat_minor": 0,
  "metadata": {
    "colab": {
      "provenance": [],
      "include_colab_link": true
    },
    "kernelspec": {
      "name": "python3",
      "display_name": "Python 3"
    },
    "language_info": {
      "name": "python"
    }
  },
  "cells": [
    {
      "cell_type": "markdown",
      "metadata": {
        "id": "view-in-github",
        "colab_type": "text"
      },
      "source": [
        "<a href=\"https://colab.research.google.com/github/jennastinks/Python-Projects/blob/main/Fix_Broken_Code_1.ipynb\" target=\"_parent\"><img src=\"https://colab.research.google.com/assets/colab-badge.svg\" alt=\"Open In Colab\"/></a>"
      ]
    },
    {
      "cell_type": "markdown",
      "source": [
        "# FIX BROKEN CODE 1"
      ],
      "metadata": {
        "id": "PC4Ip85Jr7yA"
      }
    },
    {
      "cell_type": "code",
      "execution_count": null,
      "metadata": {
        "id": "D7ZYNuM0q67R"
      },
      "outputs": [],
      "source": [
        "print(\"Hello, world!)"
      ]
    },
    {
      "cell_type": "markdown",
      "source": [
        "What was the error ?\n",
        "Answer : No speech marks at the end of !"
      ],
      "metadata": {
        "id": "XKLet5FEtkXQ"
      }
    },
    {
      "cell_type": "code",
      "source": [
        "my_number = 10\n",
        "print(my_nummber)"
      ],
      "metadata": {
        "id": "M-s4qDg2sFWz"
      },
      "execution_count": null,
      "outputs": []
    },
    {
      "cell_type": "markdown",
      "source": [
        "What was the error ?\n",
        "Answer : Variable is wrong on the second line. Should be \"my_number\""
      ],
      "metadata": {
        "id": "C0NP6Jd7tpZp"
      }
    },
    {
      "cell_type": "code",
      "source": [
        "def greet():\n",
        "name = input(\"Enter your name: \")\n",
        "    print(\"Hello, \" + name)"
      ],
      "metadata": {
        "id": "iQxoGQ1SsUEA"
      },
      "execution_count": null,
      "outputs": []
    },
    {
      "cell_type": "markdown",
      "source": [
        "What was the error ?\n",
        "Answer : No indent on second line.\n",
        "\n"
      ],
      "metadata": {
        "id": "Ap3NxpT5trax"
      }
    },
    {
      "cell_type": "code",
      "source": [
        "age = input(\"Enter your age: \")\n",
        "print(\"Next year, you will be \" + (age + 1))"
      ],
      "metadata": {
        "id": "D0fxS0w4sfz2"
      },
      "execution_count": null,
      "outputs": []
    },
    {
      "cell_type": "markdown",
      "source": [
        "What was the error ?\n",
        "Answer : Tries combining string and integer on first line. Need to declare the age is an integer."
      ],
      "metadata": {
        "id": "B7dY9waHtspn"
      }
    },
    {
      "cell_type": "code",
      "source": [
        "def add_numbers(A, B):\n",
        "    return 'a' + 'b'\n",
        "print(add_nummbers('5', '3'))"
      ],
      "metadata": {
        "id": "cr4Di-Moshxa"
      },
      "execution_count": null,
      "outputs": []
    },
    {
      "cell_type": "markdown",
      "source": [
        "What was the error ?\n",
        "Answer : variable on third line is different from first line. should be add_numbers"
      ],
      "metadata": {
        "id": "Voaq60z9ttJW"
      }
    },
    {
      "cell_type": "code",
      "source": [
        "def multiply(x, y):\n",
        "return X x Y\n",
        "\n",
        "print(multiply(4, 2))"
      ],
      "metadata": {
        "id": "v_sucHpespLK"
      },
      "execution_count": null,
      "outputs": []
    },
    {
      "cell_type": "markdown",
      "source": [
        "What was the error ?\n",
        "Answer : middle x on second line should be an asterisk."
      ],
      "metadata": {
        "id": "s-UtRPw3tt_j"
      }
    },
    {
      "cell_type": "code",
      "source": [
        "numbers = [1, 2, 3, 4, 5]\n",
        "for i in numbers\n",
        "    print i"
      ],
      "metadata": {
        "id": "m6f6EW7Ts3zQ"
      },
      "execution_count": null,
      "outputs": []
    },
    {
      "cell_type": "markdown",
      "source": [
        "What was the error ?\n",
        "Answer : no brackets around i on third line. should be print(i)"
      ],
      "metadata": {
        "id": "tRA2Cwpbtufn"
      }
    },
    {
      "cell_type": "code",
      "source": [
        "student = {\"name\": \"Alex\", \"age\": 21}\n",
        "primt(student1[name])"
      ],
      "metadata": {
        "id": "x84ylEg4s-GH"
      },
      "execution_count": null,
      "outputs": []
    },
    {
      "cell_type": "markdown",
      "source": [
        "What was the error ?\n",
        "Answer : print is misspelt. name needs speechmarks on line 2"
      ],
      "metadata": {
        "id": "K0Ofjlvbtu6s"
      }
    },
    {
      "cell_type": "code",
      "source": [
        "def check_even(n):\n",
        "    if n % 2 = 0:\n",
        "        print(\"Even\")\n",
        "    else:\n",
        "        print(\"Odd\")\n",
        "\n",
        "check_even(4)\n"
      ],
      "metadata": {
        "id": "XmSSi4yhtH5M",
        "outputId": "037723f1-17fd-473b-eb53-6d84ecec8bc6",
        "colab": {
          "base_uri": "https://localhost:8080/",
          "height": 106
        }
      },
      "execution_count": 1,
      "outputs": [
        {
          "output_type": "error",
          "ename": "SyntaxError",
          "evalue": "cannot assign to expression here. Maybe you meant '==' instead of '='? (<ipython-input-1-69b38f072aea>, line 2)",
          "traceback": [
            "\u001b[0;36m  File \u001b[0;32m\"<ipython-input-1-69b38f072aea>\"\u001b[0;36m, line \u001b[0;32m2\u001b[0m\n\u001b[0;31m    if n % 2 = 0:\u001b[0m\n\u001b[0m       ^\u001b[0m\n\u001b[0;31mSyntaxError\u001b[0m\u001b[0;31m:\u001b[0m cannot assign to expression here. Maybe you meant '==' instead of '='?\n"
          ]
        }
      ]
    },
    {
      "cell_type": "markdown",
      "source": [
        "What was the error ?\n",
        "Answer :"
      ],
      "metadata": {
        "id": "o6oubHCztvi-"
      }
    }
  ]
}